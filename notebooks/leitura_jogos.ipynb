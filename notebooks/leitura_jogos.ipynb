{
  "nbformat": 4,
  "nbformat_minor": 0,
  "metadata": {
    "colab": {
      "name": "leitura_jogos.ipynb",
      "provenance": [],
      "collapsed_sections": [],
      "include_colab_link": true
    },
    "kernelspec": {
      "display_name": "Python 3",
      "language": "python",
      "name": "python3"
    },
    "language_info": {
      "codemirror_mode": {
        "name": "ipython",
        "version": 3
      },
      "file_extension": ".py",
      "mimetype": "text/x-python",
      "name": "python",
      "nbconvert_exporter": "python",
      "pygments_lexer": "ipython3",
      "version": "3.9.0"
    }
  },
  "cells": [
    {
      "cell_type": "markdown",
      "metadata": {
        "id": "view-in-github",
        "colab_type": "text"
      },
      "source": [
        "<a href=\"https://colab.research.google.com/github/nbacomdados/nbacomdados/blob/main/notebooks/leitura_jogos.ipynb\" target=\"_parent\"><img src=\"https://colab.research.google.com/assets/colab-badge.svg\" alt=\"Open In Colab\"/></a>"
      ]
    },
    {
      "cell_type": "code",
      "metadata": {
        "id": "HfCakR0awMw5"
      },
      "source": [
        "import pandas as pd\n",
        "import requests\n",
        "import json"
      ],
      "execution_count": null,
      "outputs": []
    },
    {
      "cell_type": "code",
      "metadata": {
        "id": "W5LHDEhFs3IC"
      },
      "source": [
        "def retorna_header():\n",
        "  headers: dict = {'Accept': '*/*',\n",
        "                  'Accept-Encoding': 'gzip, deflate, br',\n",
        "                  'Accept-Language': 'pt-BR,pt;q=0.9,en-US;q=0.8,en;q=0.7',\n",
        "                  'Connection': 'keep-alive',\n",
        "                  'Host': 'stats.nba.com',\n",
        "                  'Origin': 'https://www.nba.com',\n",
        "                  'Referer': 'https://www.nba.com/',\n",
        "                  'sec-ch-ua': '\" Not;A Brand\";v=\"99\", \"Google Chrome\";v=\"91\", \"Chromium\";v=\"91\"',\n",
        "                  'sec-ch-ua-mobile': '?0',\n",
        "                  'Sec-Fetch-Dest': 'empty',\n",
        "                  'Sec-Fetch-Mode': 'cors',\n",
        "                  'Sec-Fetch-Site': 'same-site',\n",
        "                  'User-Agent': 'Mozilla/5.0 (Windows NT 10.0; Win64; x64) AppleWebKit/537.36 (KHTML, like Gecko) Chrome/91.0.4472.124 Safari/537.36'}\n",
        "\n",
        "  return headers                "
      ],
      "execution_count": 51,
      "outputs": []
    },
    {
      "cell_type": "code",
      "metadata": {
        "id": "sriyOC_opyhb"
      },
      "source": [
        "def jogo_por_Q(GameID, startPeriod, endPeriod):\n",
        "  \n",
        "  num_Q = startPeriod if startPeriod == endPeriod else f'{startPeriod}-{endPeriod}'\n",
        "\n",
        "  rangeType = '1'\n",
        "  startRange = '0'\n",
        "  endRange = '31800'\n",
        "\n",
        "  headers = retorna_header()  \n",
        "  url_base = f'https://stats.nba.com/stats/boxscoretraditionalv3?GameID={GameID}&LeagueID=00&'\n",
        "  url_stats = f'{url_base}endPeriod={endPeriod}&endRange={endRange}&rangeType={rangeType}&startPeriod={startPeriod}&startRange={startRange}'\n",
        "\n",
        "  with requests.Session() as sessao:\n",
        "          resposta: requests.models.Response = sessao.get(url_stats, headers=headers)\n",
        "\n",
        "  y = json.loads(resposta.content)\n",
        "\n",
        "  name_homeTeam = y['boxScoreTraditional']['homeTeam']['teamName']\n",
        "  name_awayTeam = y['boxScoreTraditional']['awayTeam']['teamName']\n",
        "  gameId = y['boxScoreTraditional']['gameId']\n",
        "\n",
        "  pd.json_normalize(y['boxScoreTraditional']['homeTeam']['players']).to_csv(f'{gameId}_{name_homeTeam}_Q{num_Q}.csv')\n",
        "  pd.json_normalize(y['boxScoreTraditional']['awayTeam']['players']).to_csv(f'{gameId}_{name_awayTeam}_Q{num_Q}.csv')\n",
        "\n",
        "  df_awayTeam_statistics = pd.json_normalize(y['boxScoreTraditional']['awayTeam']['statistics'])\n",
        "  df_homeTeam_statistics = pd.json_normalize(y['boxScoreTraditional']['homeTeam']['statistics'])\n",
        "  df_game_statistics = df_homeTeam_statistics.append(df_awayTeam_statistics)\n",
        "  df_game_statistics.index = [name_homeTeam, name_awayTeam]\n",
        "  df_game_statistics.to_csv(f'{gameId}_game_statistics_Q{num_Q}.csv')"
      ],
      "execution_count": 54,
      "outputs": []
    },
    {
      "cell_type": "code",
      "metadata": {
        "cellView": "form",
        "id": "nXCsNJyJu1f-"
      },
      "source": [
        "# GameID = '0042000217' # Jogo 7 Nets X Bucks\n",
        "# GameID = '0042000402' # Jogo 2 Suns x Bucks\n",
        "\n",
        "#@title Texto de título padrão\n",
        "\n",
        "GameID = \"0042000217\" #@param {type:\"string\"}\n",
        "startPeriod = 1 #@param {type:\"slider\", min:1, max:10, step:1}\n",
        "endPeriod = 1 #@param {type:\"slider\", min:1, max:10, step:1}\n",
        "\n",
        "jogo_por_Q(GameID, startPeriod, endPeriod)"
      ],
      "execution_count": 60,
      "outputs": []
    }
  ]
}