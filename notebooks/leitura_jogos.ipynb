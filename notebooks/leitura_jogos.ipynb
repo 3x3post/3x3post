{
  "nbformat": 4,
  "nbformat_minor": 0,
  "metadata": {
    "colab": {
      "name": "leitura_jogos.ipynb",
      "provenance": [],
      "collapsed_sections": [],
      "authorship_tag": "ABX9TyO0IkjRG7fjpsS12xNTsLcG",
      "include_colab_link": true
    },
    "kernelspec": {
      "name": "python3",
      "display_name": "Python 3"
    },
    "language_info": {
      "name": "python"
    }
  },
  "cells": [
    {
      "cell_type": "markdown",
      "metadata": {
        "id": "view-in-github",
        "colab_type": "text"
      },
      "source": [
        "<a href=\"https://colab.research.google.com/github/nbacomdados/nbacomdados/blob/main/notebooks/leitura_jogos.ipynb\" target=\"_parent\"><img src=\"https://colab.research.google.com/assets/colab-badge.svg\" alt=\"Open In Colab\"/></a>"
      ]
    },
    {
      "cell_type": "code",
      "metadata": {
        "id": "FP-ArYnvftoA"
      },
      "source": [
        "import pandas as pd"
      ],
      "execution_count": null,
      "outputs": []
    },
    {
      "cell_type": "code",
      "metadata": {
        "id": "XE3z0yeTgT1B"
      },
      "source": [
        "url = 'https://www.espn.com/nba/matchup?gameId=401332963'"
      ],
      "execution_count": null,
      "outputs": []
    },
    {
      "cell_type": "code",
      "metadata": {
        "id": "cqFYc6JogVRL",
        "colab": {
          "base_uri": "https://localhost:8080/"
        },
        "outputId": "26c05768-ac8c-40bb-83c6-757776fd7416"
      },
      "source": [
        "dfs = pd.read_html(url)\n",
        "len(dfs)"
      ],
      "execution_count": 5,
      "outputs": [
        {
          "output_type": "execute_result",
          "data": {
            "text/plain": [
              "4"
            ]
          },
          "metadata": {
            "tags": []
          },
          "execution_count": 5
        }
      ]
    },
    {
      "cell_type": "code",
      "metadata": {
        "colab": {
          "base_uri": "https://localhost:8080/",
          "height": 114
        },
        "id": "62DFfuUqgobU",
        "outputId": "2ba2c476-5b9a-429f-bbfa-3dc7e1d41133"
      },
      "source": [
        "dfs[0]"
      ],
      "execution_count": 6,
      "outputs": [
        {
          "output_type": "execute_result",
          "data": {
            "text/html": [
              "<div>\n",
              "<style scoped>\n",
              "    .dataframe tbody tr th:only-of-type {\n",
              "        vertical-align: middle;\n",
              "    }\n",
              "\n",
              "    .dataframe tbody tr th {\n",
              "        vertical-align: top;\n",
              "    }\n",
              "\n",
              "    .dataframe thead th {\n",
              "        text-align: right;\n",
              "    }\n",
              "</style>\n",
              "<table border=\"1\" class=\"dataframe\">\n",
              "  <thead>\n",
              "    <tr style=\"text-align: right;\">\n",
              "      <th></th>\n",
              "      <th>Unnamed: 0</th>\n",
              "      <th>1</th>\n",
              "      <th>2</th>\n",
              "      <th>3</th>\n",
              "      <th>4</th>\n",
              "      <th>OT</th>\n",
              "      <th>T</th>\n",
              "    </tr>\n",
              "  </thead>\n",
              "  <tbody>\n",
              "    <tr>\n",
              "      <th>0</th>\n",
              "      <td>MIL</td>\n",
              "      <td>25</td>\n",
              "      <td>22</td>\n",
              "      <td>35</td>\n",
              "      <td>27</td>\n",
              "      <td>6</td>\n",
              "      <td>115</td>\n",
              "    </tr>\n",
              "    <tr>\n",
              "      <th>1</th>\n",
              "      <td>BKN</td>\n",
              "      <td>28</td>\n",
              "      <td>25</td>\n",
              "      <td>28</td>\n",
              "      <td>28</td>\n",
              "      <td>2</td>\n",
              "      <td>111</td>\n",
              "    </tr>\n",
              "  </tbody>\n",
              "</table>\n",
              "</div>"
            ],
            "text/plain": [
              "  Unnamed: 0   1   2   3   4  OT    T\n",
              "0        MIL  25  22  35  27   6  115\n",
              "1        BKN  28  25  28  28   2  111"
            ]
          },
          "metadata": {
            "tags": []
          },
          "execution_count": 6
        }
      ]
    },
    {
      "cell_type": "code",
      "metadata": {
        "id": "eG-NZ42Xgrio"
      },
      "source": [
        "dfs[1].to_csv('BucksXNets_jogo7_Leste_SemiFinal.csv')"
      ],
      "execution_count": 15,
      "outputs": []
    },
    {
      "cell_type": "code",
      "metadata": {
        "colab": {
          "base_uri": "https://localhost:8080/",
          "height": 210
        },
        "id": "fUWNvAcBgvW0",
        "outputId": "120b5e69-c685-49f7-c00d-856893db9eb6"
      },
      "source": [
        "dfs[2]"
      ],
      "execution_count": 13,
      "outputs": [
        {
          "output_type": "execute_result",
          "data": {
            "text/html": [
              "<div>\n",
              "<style scoped>\n",
              "    .dataframe tbody tr th:only-of-type {\n",
              "        vertical-align: middle;\n",
              "    }\n",
              "\n",
              "    .dataframe tbody tr th {\n",
              "        vertical-align: top;\n",
              "    }\n",
              "\n",
              "    .dataframe thead th {\n",
              "        text-align: right;\n",
              "    }\n",
              "</style>\n",
              "<table border=\"1\" class=\"dataframe\">\n",
              "  <thead>\n",
              "    <tr style=\"text-align: right;\">\n",
              "      <th></th>\n",
              "      <th>TEAM</th>\n",
              "      <th>W</th>\n",
              "      <th>L</th>\n",
              "      <th>PCT</th>\n",
              "      <th>GB</th>\n",
              "      <th>STRK</th>\n",
              "    </tr>\n",
              "  </thead>\n",
              "  <tbody>\n",
              "    <tr>\n",
              "      <th>0</th>\n",
              "      <td>Milwaukee</td>\n",
              "      <td>46</td>\n",
              "      <td>26</td>\n",
              "      <td>0.639</td>\n",
              "      <td>0</td>\n",
              "      <td>L1</td>\n",
              "    </tr>\n",
              "    <tr>\n",
              "      <th>1</th>\n",
              "      <td>Indiana</td>\n",
              "      <td>34</td>\n",
              "      <td>38</td>\n",
              "      <td>0.472</td>\n",
              "      <td>12</td>\n",
              "      <td>W1</td>\n",
              "    </tr>\n",
              "    <tr>\n",
              "      <th>2</th>\n",
              "      <td>Chicago</td>\n",
              "      <td>31</td>\n",
              "      <td>41</td>\n",
              "      <td>0.431</td>\n",
              "      <td>15</td>\n",
              "      <td>W1</td>\n",
              "    </tr>\n",
              "    <tr>\n",
              "      <th>3</th>\n",
              "      <td>Cleveland</td>\n",
              "      <td>22</td>\n",
              "      <td>50</td>\n",
              "      <td>0.306</td>\n",
              "      <td>24</td>\n",
              "      <td>L2</td>\n",
              "    </tr>\n",
              "    <tr>\n",
              "      <th>4</th>\n",
              "      <td>Detroit</td>\n",
              "      <td>20</td>\n",
              "      <td>52</td>\n",
              "      <td>0.278</td>\n",
              "      <td>26</td>\n",
              "      <td>L5</td>\n",
              "    </tr>\n",
              "  </tbody>\n",
              "</table>\n",
              "</div>"
            ],
            "text/plain": [
              "        TEAM   W   L    PCT  GB STRK\n",
              "0  Milwaukee  46  26  0.639   0   L1\n",
              "1    Indiana  34  38  0.472  12   W1\n",
              "2    Chicago  31  41  0.431  15   W1\n",
              "3  Cleveland  22  50  0.306  24   L2\n",
              "4    Detroit  20  52  0.278  26   L5"
            ]
          },
          "metadata": {
            "tags": []
          },
          "execution_count": 13
        }
      ]
    },
    {
      "cell_type": "code",
      "metadata": {
        "colab": {
          "base_uri": "https://localhost:8080/",
          "height": 210
        },
        "id": "BONYWPQigxhv",
        "outputId": "94efb60f-fb70-49a6-f25a-4fc9e03696f9"
      },
      "source": [
        "dfs[3]"
      ],
      "execution_count": 14,
      "outputs": [
        {
          "output_type": "execute_result",
          "data": {
            "text/html": [
              "<div>\n",
              "<style scoped>\n",
              "    .dataframe tbody tr th:only-of-type {\n",
              "        vertical-align: middle;\n",
              "    }\n",
              "\n",
              "    .dataframe tbody tr th {\n",
              "        vertical-align: top;\n",
              "    }\n",
              "\n",
              "    .dataframe thead th {\n",
              "        text-align: right;\n",
              "    }\n",
              "</style>\n",
              "<table border=\"1\" class=\"dataframe\">\n",
              "  <thead>\n",
              "    <tr style=\"text-align: right;\">\n",
              "      <th></th>\n",
              "      <th>TEAM</th>\n",
              "      <th>W</th>\n",
              "      <th>L</th>\n",
              "      <th>PCT</th>\n",
              "      <th>GB</th>\n",
              "      <th>STRK</th>\n",
              "    </tr>\n",
              "  </thead>\n",
              "  <tbody>\n",
              "    <tr>\n",
              "      <th>0</th>\n",
              "      <td>Philadelphia</td>\n",
              "      <td>49</td>\n",
              "      <td>23</td>\n",
              "      <td>0.681</td>\n",
              "      <td>0</td>\n",
              "      <td>W2</td>\n",
              "    </tr>\n",
              "    <tr>\n",
              "      <th>1</th>\n",
              "      <td>Brooklyn</td>\n",
              "      <td>48</td>\n",
              "      <td>24</td>\n",
              "      <td>0.667</td>\n",
              "      <td>1</td>\n",
              "      <td>W5</td>\n",
              "    </tr>\n",
              "    <tr>\n",
              "      <th>2</th>\n",
              "      <td>New York</td>\n",
              "      <td>41</td>\n",
              "      <td>31</td>\n",
              "      <td>0.569</td>\n",
              "      <td>8</td>\n",
              "      <td>W3</td>\n",
              "    </tr>\n",
              "    <tr>\n",
              "      <th>3</th>\n",
              "      <td>Boston</td>\n",
              "      <td>36</td>\n",
              "      <td>36</td>\n",
              "      <td>0.500</td>\n",
              "      <td>13</td>\n",
              "      <td>L1</td>\n",
              "    </tr>\n",
              "    <tr>\n",
              "      <th>4</th>\n",
              "      <td>Toronto</td>\n",
              "      <td>27</td>\n",
              "      <td>45</td>\n",
              "      <td>0.375</td>\n",
              "      <td>22</td>\n",
              "      <td>L7</td>\n",
              "    </tr>\n",
              "  </tbody>\n",
              "</table>\n",
              "</div>"
            ],
            "text/plain": [
              "           TEAM   W   L    PCT  GB STRK\n",
              "0  Philadelphia  49  23  0.681   0   W2\n",
              "1      Brooklyn  48  24  0.667   1   W5\n",
              "2      New York  41  31  0.569   8   W3\n",
              "3        Boston  36  36  0.500  13   L1\n",
              "4       Toronto  27  45  0.375  22   L7"
            ]
          },
          "metadata": {
            "tags": []
          },
          "execution_count": 14
        }
      ]
    }
  ]
}