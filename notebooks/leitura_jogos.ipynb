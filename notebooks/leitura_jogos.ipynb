{
  "nbformat": 4,
  "nbformat_minor": 0,
  "metadata": {
    "colab": {
      "name": "leitura_jogos.ipynb",
      "provenance": [],
      "collapsed_sections": [],
      "include_colab_link": true
    },
    "kernelspec": {
      "display_name": "Python 3",
      "language": "python",
      "name": "python3"
    },
    "language_info": {
      "codemirror_mode": {
        "name": "ipython",
        "version": 3
      },
      "file_extension": ".py",
      "mimetype": "text/x-python",
      "name": "python",
      "nbconvert_exporter": "python",
      "pygments_lexer": "ipython3",
      "version": "3.9.0"
    }
  },
  "cells": [
    {
      "cell_type": "markdown",
      "metadata": {
        "id": "view-in-github",
        "colab_type": "text"
      },
      "source": [
        "<a href=\"https://colab.research.google.com/github/nbacomdados/nbacomdados/blob/main/notebooks/leitura_jogos.ipynb\" target=\"_parent\"><img src=\"https://colab.research.google.com/assets/colab-badge.svg\" alt=\"Open In Colab\"/></a>"
      ]
    },
    {
      "cell_type": "code",
      "metadata": {
        "id": "N8yb0etLRYTa",
        "outputId": "7c8b3e1b-d856-43d4-c376-06e41eaa3a11",
        "colab": {
          "base_uri": "https://localhost:8080/"
        }
      },
      "source": [
        "!pip install selenium\n",
        "!apt-get update # to update ubuntu to correctly run apt install\n",
        "!apt install chromium-chromedriver\n",
        "!cp /usr/lib/chromium-browser/chromedriver /usr/bin"
      ],
      "execution_count": 1,
      "outputs": [
        {
          "output_type": "stream",
          "text": [
            "Requirement already satisfied: selenium in /usr/local/lib/python3.7/dist-packages (3.141.0)\n",
            "Requirement already satisfied: urllib3 in /usr/local/lib/python3.7/dist-packages (from selenium) (1.24.3)\n",
            "Hit:1 https://cloud.r-project.org/bin/linux/ubuntu bionic-cran40/ InRelease\n",
            "Ign:2 https://developer.download.nvidia.com/compute/cuda/repos/ubuntu1804/x86_64  InRelease\n",
            "Hit:3 http://security.ubuntu.com/ubuntu bionic-security InRelease\n",
            "Ign:4 https://developer.download.nvidia.com/compute/machine-learning/repos/ubuntu1804/x86_64  InRelease\n",
            "Hit:5 https://developer.download.nvidia.com/compute/cuda/repos/ubuntu1804/x86_64  Release\n",
            "Hit:6 https://developer.download.nvidia.com/compute/machine-learning/repos/ubuntu1804/x86_64  Release\n",
            "Hit:7 http://ppa.launchpad.net/c2d4u.team/c2d4u4.0+/ubuntu bionic InRelease\n",
            "Hit:8 http://archive.ubuntu.com/ubuntu bionic InRelease\n",
            "Hit:9 http://archive.ubuntu.com/ubuntu bionic-updates InRelease\n",
            "Hit:10 http://ppa.launchpad.net/cran/libgit2/ubuntu bionic InRelease\n",
            "Hit:11 http://archive.ubuntu.com/ubuntu bionic-backports InRelease\n",
            "Hit:13 http://ppa.launchpad.net/deadsnakes/ppa/ubuntu bionic InRelease\n",
            "Hit:15 http://ppa.launchpad.net/graphics-drivers/ppa/ubuntu bionic InRelease\n",
            "Reading package lists... Done\n",
            "Reading package lists... Done\n",
            "Building dependency tree       \n",
            "Reading state information... Done\n",
            "chromium-chromedriver is already the newest version (91.0.4472.101-0ubuntu0.18.04.1).\n",
            "0 upgraded, 0 newly installed, 0 to remove and 58 not upgraded.\n",
            "cp: '/usr/lib/chromium-browser/chromedriver' and '/usr/bin/chromedriver' are the same file\n"
          ],
          "name": "stdout"
        }
      ]
    },
    {
      "cell_type": "code",
      "metadata": {
        "id": "mOvMSW3KT5qc"
      },
      "source": [
        "import sys"
      ],
      "execution_count": 2,
      "outputs": []
    },
    {
      "cell_type": "code",
      "metadata": {
        "id": "dg58LQ-QRZrC"
      },
      "source": [
        "sys.path.insert(0,'/usr/lib/chromium-browser/chromedriver')"
      ],
      "execution_count": 3,
      "outputs": []
    },
    {
      "cell_type": "code",
      "metadata": {
        "id": "VqOh7Yf2Ra4i"
      },
      "source": [
        "from selenium import webdriver\n",
        "from selenium import webdriver\n",
        "from selenium.webdriver.common.by import By\n",
        "from selenium.webdriver.support.ui import WebDriverWait\n",
        "from selenium.webdriver.support import expected_conditions as EC"
      ],
      "execution_count": 4,
      "outputs": []
    },
    {
      "cell_type": "code",
      "metadata": {
        "id": "alg9iErtQajO"
      },
      "source": [
        "chrome_options = webdriver.ChromeOptions()\n",
        "chrome_options.add_argument('--headless')\n",
        "chrome_options.add_argument('--no-sandbox')\n",
        "chrome_options.add_argument('--disable-dev-shm-usage')"
      ],
      "execution_count": 5,
      "outputs": []
    },
    {
      "cell_type": "code",
      "metadata": {
        "id": "0mfFa6eIHkB1"
      },
      "source": [
        "url_nba = 'https://www.nba.com/game/mil-vs-bkn-0042000217/box-score'"
      ],
      "execution_count": 6,
      "outputs": []
    },
    {
      "cell_type": "code",
      "metadata": {
        "id": "5cZj2tl0Rnyh"
      },
      "source": [
        "driver = webdriver.Chrome('chromedriver',options=chrome_options)\n",
        "driver.get(url_nba)\n",
        "try:\n",
        "    element = WebDriverWait(driver, 10).until(\n",
        "        EC.presence_of_element_located((By.ID, \"__next\"))\n",
        "    )\n",
        "finally:\n",
        "    the_text = driver.page_source\n",
        "    driver.quit()"
      ],
      "execution_count": 7,
      "outputs": []
    },
    {
      "cell_type": "code",
      "metadata": {
        "id": "FP-ArYnvftoA"
      },
      "source": [
        "import pandas as pd\n",
        "from io import StringIO"
      ],
      "execution_count": 8,
      "outputs": []
    },
    {
      "cell_type": "code",
      "metadata": {
        "id": "41uLrXuXTRmf"
      },
      "source": [
        "the_text_io = StringIO(the_text)"
      ],
      "execution_count": 9,
      "outputs": []
    },
    {
      "cell_type": "code",
      "metadata": {
        "colab": {
          "base_uri": "https://localhost:8080/"
        },
        "id": "wvBE5l_UHkB7",
        "outputId": "53025e68-dfe8-4656-9abc-1ee1ea5cbe41"
      },
      "source": [
        "dfs_nba = pd.read_html(the_text_io)\n",
        "len(dfs_nba)"
      ],
      "execution_count": 10,
      "outputs": [
        {
          "output_type": "execute_result",
          "data": {
            "text/plain": [
              "2"
            ]
          },
          "metadata": {
            "tags": []
          },
          "execution_count": 10
        }
      ]
    },
    {
      "cell_type": "code",
      "metadata": {
        "id": "pgrFT35QTdGr",
        "outputId": "b01d8a08-2150-40f0-d289-7bde8752f404",
        "colab": {
          "base_uri": "https://localhost:8080/"
        }
      },
      "source": [
        "dfs_nba"
      ],
      "execution_count": 11,
      "outputs": [
        {
          "output_type": "execute_result",
          "data": {
            "text/plain": [
              "[                                    PLAYER  ...                     +/-\n",
              " 0                    P.J. TuckerP. TuckerF  ...                      -4\n",
              " 1   Giannis AntetokounmpoG. AntetokounmpoF  ...                       6\n",
              " 2                     Brook LopezB. LopezC  ...                       2\n",
              " 3             Khris MiddletonK. MiddletonG  ...                       3\n",
              " 4                  Jrue HolidayJ. HolidayG  ...                       3\n",
              " 5   Thanasis AntetokounmpoT. Antetokounmpo  ...                      -2\n",
              " 6            Pat ConnaughtonP. Connaughton  ...                      10\n",
              " 7                     Bryn ForbesB. Forbes  ...                       2\n",
              " 8                   Elijah BryantE. Bryant  ...  DNP - Coach's Decision\n",
              " 9                 Mamadi DiakiteM. Diakite  ...  DNP - Coach's Decision\n",
              " 10                Justin JacksonJ. Jackson  ...  DNP - Coach's Decision\n",
              " 11                   Sam MerrillS. Merrill  ...  DNP - Coach's Decision\n",
              " 12                   Bobby PortisB. Portis  ...  DNP - Coach's Decision\n",
              " 13                    Jeff TeagueJ. Teague  ...  DNP - Coach's Decision\n",
              " 14                  Axel ToupaneA. Toupane  ...  DNP - Coach's Decision\n",
              " 15                                  TOTALS  ...                       4\n",
              " \n",
              " [16 rows x 21 columns],\n",
              "                                        PLAYER  ...                     +/-\n",
              " 0                      Kevin DurantK. DurantF  ...                      -4\n",
              " 1                        Joe HarrisJ. HarrisF  ...                      -1\n",
              " 2                    Blake GriffinB. GriffinC  ...                      -4\n",
              " 3                        Bruce BrownB. BrownG  ...                      -7\n",
              " 4                      James HardenJ. HardenG  ...                      -4\n",
              " 5                      Landry ShametL. Shamet  ...                      -2\n",
              " 6                          Jeff GreenJ. Green  ...                       2\n",
              " 7                   Nicolas ClaxtonN. Claxton  ...                       0\n",
              " 8                     Chris ChiozzaC. Chiozza  ...  DNP - Coach's Decision\n",
              " 9                          Mike JamesM. James  ...  DNP - Coach's Decision\n",
              " 10                    Alize JohnsonA. Johnson  ...  DNP - Coach's Decision\n",
              " 11                    Tyler JohnsonT. Johnson  ...  DNP - Coach's Decision\n",
              " 12                    DeAndre JordanD. Jordan  ...  DNP - Coach's Decision\n",
              " 13  Timothe Luwawu-CabarrotT. Luwawu-Cabarrot  ...  DNP - Coach's Decision\n",
              " 14                       Reggie PerryR. Perry  ...  DNP - Coach's Decision\n",
              " 15                                     TOTALS  ...                      -4\n",
              " \n",
              " [16 rows x 21 columns]]"
            ]
          },
          "metadata": {
            "tags": []
          },
          "execution_count": 11
        }
      ]
    },
    {
      "cell_type": "code",
      "metadata": {
        "id": "yR9EU6ZAVJDs"
      },
      "source": [
        "import requests"
      ],
      "execution_count": 12,
      "outputs": []
    },
    {
      "cell_type": "code",
      "metadata": {
        "id": "yYHgJp8QV0XT"
      },
      "source": [
        "url_stats = 'https://stats.nba.com/stats/boxscoretraditionalv3?GameID=0042000217&LeagueID=00&endPeriod=0&endRange=7727&rangeType=2&startPeriod=0&startRange=0'"
      ],
      "execution_count": 16,
      "outputs": []
    },
    {
      "cell_type": "code",
      "metadata": {
        "id": "Xg55eTpOV94F"
      },
      "source": [
        "headers: dict = {'Accept': '*/*',\n",
        "                'Accept-Encoding': 'gzip, deflate, br',\n",
        "                'Accept-Language': 'pt-BR,pt;q=0.9,en-US;q=0.8,en;q=0.7',\n",
        "                'Connection': 'keep-alive',\n",
        "                'Host': 'stats.nba.com',\n",
        "                'Origin': 'https://www.nba.com',\n",
        "                'Referer': 'https://www.nba.com/',\n",
        "                'sec-ch-ua': '\" Not;A Brand\";v=\"99\", \"Google Chrome\";v=\"91\", \"Chromium\";v=\"91\"',\n",
        "                'sec-ch-ua-mobile': '?0',\n",
        "                'Sec-Fetch-Dest': 'empty',\n",
        "                'Sec-Fetch-Mode': 'cors',\n",
        "                'Sec-Fetch-Site': 'same-site',\n",
        "                'User-Agent': 'Mozilla/5.0 (Windows NT 10.0; Win64; x64) AppleWebKit/537.36 (KHTML, like Gecko) Chrome/91.0.4472.124 Safari/537.36'}"
      ],
      "execution_count": 17,
      "outputs": []
    },
    {
      "cell_type": "code",
      "metadata": {
        "id": "pVutK_pVVzAV"
      },
      "source": [
        "with requests.Session() as sessao:\n",
        "        resposta: requests.models.Response = sessao.get(url_stats, headers=headers)"
      ],
      "execution_count": 18,
      "outputs": []
    },
    {
      "cell_type": "code",
      "metadata": {
        "id": "Xe41ujg7Wg8o"
      },
      "source": [
        "x = resposta.content"
      ],
      "execution_count": 22,
      "outputs": []
    },
    {
      "cell_type": "code",
      "metadata": {
        "id": "HfX4rIV4W6Ho"
      },
      "source": [
        "import json"
      ],
      "execution_count": 23,
      "outputs": []
    },
    {
      "cell_type": "code",
      "metadata": {
        "id": "BqBtg4LYW86_"
      },
      "source": [
        "y = json.loads(x)"
      ],
      "execution_count": 24,
      "outputs": []
    },
    {
      "cell_type": "code",
      "metadata": {
        "id": "I3-YjI-GXTBj",
        "outputId": "5410fb85-fb9f-4257-eec5-50eecccd5af6",
        "colab": {
          "base_uri": "https://localhost:8080/"
        }
      },
      "source": [
        "y.keys()"
      ],
      "execution_count": 32,
      "outputs": [
        {
          "output_type": "execute_result",
          "data": {
            "text/plain": [
              "dict_keys(['meta', 'boxScoreTraditional'])"
            ]
          },
          "metadata": {
            "tags": []
          },
          "execution_count": 32
        }
      ]
    },
    {
      "cell_type": "code",
      "metadata": {
        "id": "WhOzuuJlW_UF",
        "outputId": "ff32314f-c5a9-418d-e60c-0c5fad87fb0c",
        "colab": {
          "base_uri": "https://localhost:8080/",
          "height": 368
        }
      },
      "source": [
        "pd.json_normalize(y['boxScoreTraditional']['awayTeam']['players'])"
      ],
      "execution_count": 35,
      "outputs": [
        {
          "output_type": "execute_result",
          "data": {
            "text/html": [
              "<div>\n",
              "<style scoped>\n",
              "    .dataframe tbody tr th:only-of-type {\n",
              "        vertical-align: middle;\n",
              "    }\n",
              "\n",
              "    .dataframe tbody tr th {\n",
              "        vertical-align: top;\n",
              "    }\n",
              "\n",
              "    .dataframe thead th {\n",
              "        text-align: right;\n",
              "    }\n",
              "</style>\n",
              "<table border=\"1\" class=\"dataframe\">\n",
              "  <thead>\n",
              "    <tr style=\"text-align: right;\">\n",
              "      <th></th>\n",
              "      <th>personId</th>\n",
              "      <th>firstName</th>\n",
              "      <th>familyName</th>\n",
              "      <th>nameI</th>\n",
              "      <th>playerSlug</th>\n",
              "      <th>position</th>\n",
              "      <th>comment</th>\n",
              "      <th>jerseyNum</th>\n",
              "      <th>statistics.minutes</th>\n",
              "      <th>statistics.fieldGoalsMade</th>\n",
              "      <th>statistics.fieldGoalsAttempted</th>\n",
              "      <th>statistics.fieldGoalsPercentage</th>\n",
              "      <th>statistics.threePointersMade</th>\n",
              "      <th>statistics.threePointersAttempted</th>\n",
              "      <th>statistics.threePointersPercentage</th>\n",
              "      <th>statistics.freeThrowsMade</th>\n",
              "      <th>statistics.freeThrowsAttempted</th>\n",
              "      <th>statistics.freeThrowsPercentage</th>\n",
              "      <th>statistics.reboundsOffensive</th>\n",
              "      <th>statistics.reboundsDefensive</th>\n",
              "      <th>statistics.reboundsTotal</th>\n",
              "      <th>statistics.assists</th>\n",
              "      <th>statistics.steals</th>\n",
              "      <th>statistics.blocks</th>\n",
              "      <th>statistics.turnovers</th>\n",
              "      <th>statistics.foulsPersonal</th>\n",
              "      <th>statistics.points</th>\n",
              "      <th>statistics.plusMinusPoints</th>\n",
              "    </tr>\n",
              "  </thead>\n",
              "  <tbody>\n",
              "    <tr>\n",
              "      <th>0</th>\n",
              "      <td>200782</td>\n",
              "      <td>P.J.</td>\n",
              "      <td>Tucker</td>\n",
              "      <td>P. Tucker</td>\n",
              "      <td>pj-tucker</td>\n",
              "      <td>F</td>\n",
              "      <td></td>\n",
              "      <td></td>\n",
              "      <td>9:23</td>\n",
              "      <td>1</td>\n",
              "      <td>2</td>\n",
              "      <td>0.50</td>\n",
              "      <td>1</td>\n",
              "      <td>1</td>\n",
              "      <td>1.0</td>\n",
              "      <td>0</td>\n",
              "      <td>0</td>\n",
              "      <td>0.0</td>\n",
              "      <td>0</td>\n",
              "      <td>1</td>\n",
              "      <td>1</td>\n",
              "      <td>0</td>\n",
              "      <td>0</td>\n",
              "      <td>2</td>\n",
              "      <td>0</td>\n",
              "      <td>1</td>\n",
              "      <td>3</td>\n",
              "      <td>-3.0</td>\n",
              "    </tr>\n",
              "    <tr>\n",
              "      <th>1</th>\n",
              "      <td>203507</td>\n",
              "      <td>Giannis</td>\n",
              "      <td>Antetokounmpo</td>\n",
              "      <td>G. Antetokounmpo</td>\n",
              "      <td>giannis-antetokounmpo</td>\n",
              "      <td>F</td>\n",
              "      <td></td>\n",
              "      <td></td>\n",
              "      <td>12:04</td>\n",
              "      <td>4</td>\n",
              "      <td>5</td>\n",
              "      <td>0.80</td>\n",
              "      <td>1</td>\n",
              "      <td>2</td>\n",
              "      <td>0.5</td>\n",
              "      <td>1</td>\n",
              "      <td>2</td>\n",
              "      <td>0.5</td>\n",
              "      <td>1</td>\n",
              "      <td>1</td>\n",
              "      <td>2</td>\n",
              "      <td>1</td>\n",
              "      <td>0</td>\n",
              "      <td>1</td>\n",
              "      <td>1</td>\n",
              "      <td>1</td>\n",
              "      <td>10</td>\n",
              "      <td>-6.0</td>\n",
              "    </tr>\n",
              "    <tr>\n",
              "      <th>2</th>\n",
              "      <td>201572</td>\n",
              "      <td>Brook</td>\n",
              "      <td>Lopez</td>\n",
              "      <td>B. Lopez</td>\n",
              "      <td>brook-lopez</td>\n",
              "      <td>C</td>\n",
              "      <td></td>\n",
              "      <td></td>\n",
              "      <td>12:09</td>\n",
              "      <td>1</td>\n",
              "      <td>2</td>\n",
              "      <td>0.50</td>\n",
              "      <td>1</td>\n",
              "      <td>2</td>\n",
              "      <td>0.5</td>\n",
              "      <td>0</td>\n",
              "      <td>0</td>\n",
              "      <td>0.0</td>\n",
              "      <td>1</td>\n",
              "      <td>1</td>\n",
              "      <td>2</td>\n",
              "      <td>1</td>\n",
              "      <td>0</td>\n",
              "      <td>0</td>\n",
              "      <td>0</td>\n",
              "      <td>0</td>\n",
              "      <td>3</td>\n",
              "      <td>-4.0</td>\n",
              "    </tr>\n",
              "    <tr>\n",
              "      <th>3</th>\n",
              "      <td>203114</td>\n",
              "      <td>Khris</td>\n",
              "      <td>Middleton</td>\n",
              "      <td>K. Middleton</td>\n",
              "      <td>khris-middleton</td>\n",
              "      <td>G</td>\n",
              "      <td></td>\n",
              "      <td></td>\n",
              "      <td>12:07</td>\n",
              "      <td>2</td>\n",
              "      <td>8</td>\n",
              "      <td>0.25</td>\n",
              "      <td>0</td>\n",
              "      <td>1</td>\n",
              "      <td>0.0</td>\n",
              "      <td>1</td>\n",
              "      <td>1</td>\n",
              "      <td>1.0</td>\n",
              "      <td>3</td>\n",
              "      <td>2</td>\n",
              "      <td>5</td>\n",
              "      <td>1</td>\n",
              "      <td>0</td>\n",
              "      <td>0</td>\n",
              "      <td>1</td>\n",
              "      <td>0</td>\n",
              "      <td>5</td>\n",
              "      <td>-7.0</td>\n",
              "    </tr>\n",
              "    <tr>\n",
              "      <th>4</th>\n",
              "      <td>201950</td>\n",
              "      <td>Jrue</td>\n",
              "      <td>Holiday</td>\n",
              "      <td>J. Holiday</td>\n",
              "      <td>jrue-holiday</td>\n",
              "      <td>G</td>\n",
              "      <td></td>\n",
              "      <td></td>\n",
              "      <td>12:00</td>\n",
              "      <td>2</td>\n",
              "      <td>8</td>\n",
              "      <td>0.25</td>\n",
              "      <td>0</td>\n",
              "      <td>3</td>\n",
              "      <td>0.0</td>\n",
              "      <td>0</td>\n",
              "      <td>0</td>\n",
              "      <td>0.0</td>\n",
              "      <td>1</td>\n",
              "      <td>0</td>\n",
              "      <td>1</td>\n",
              "      <td>1</td>\n",
              "      <td>0</td>\n",
              "      <td>0</td>\n",
              "      <td>1</td>\n",
              "      <td>1</td>\n",
              "      <td>4</td>\n",
              "      <td>-3.0</td>\n",
              "    </tr>\n",
              "    <tr>\n",
              "      <th>5</th>\n",
              "      <td>203648</td>\n",
              "      <td>Thanasis</td>\n",
              "      <td>Antetokounmpo</td>\n",
              "      <td>T. Antetokounmpo</td>\n",
              "      <td>thanasis-antetokounmpo</td>\n",
              "      <td></td>\n",
              "      <td></td>\n",
              "      <td></td>\n",
              "      <td>0:42</td>\n",
              "      <td>0</td>\n",
              "      <td>0</td>\n",
              "      <td>0.00</td>\n",
              "      <td>0</td>\n",
              "      <td>0</td>\n",
              "      <td>0.0</td>\n",
              "      <td>0</td>\n",
              "      <td>0</td>\n",
              "      <td>0.0</td>\n",
              "      <td>0</td>\n",
              "      <td>1</td>\n",
              "      <td>1</td>\n",
              "      <td>0</td>\n",
              "      <td>0</td>\n",
              "      <td>0</td>\n",
              "      <td>0</td>\n",
              "      <td>1</td>\n",
              "      <td>0</td>\n",
              "      <td>0.0</td>\n",
              "    </tr>\n",
              "    <tr>\n",
              "      <th>6</th>\n",
              "      <td>1626192</td>\n",
              "      <td>Pat</td>\n",
              "      <td>Connaughton</td>\n",
              "      <td>P. Connaughton</td>\n",
              "      <td>pat-connaughton</td>\n",
              "      <td></td>\n",
              "      <td></td>\n",
              "      <td></td>\n",
              "      <td>2:47</td>\n",
              "      <td>0</td>\n",
              "      <td>1</td>\n",
              "      <td>0.00</td>\n",
              "      <td>0</td>\n",
              "      <td>1</td>\n",
              "      <td>0.0</td>\n",
              "      <td>0</td>\n",
              "      <td>0</td>\n",
              "      <td>0.0</td>\n",
              "      <td>0</td>\n",
              "      <td>0</td>\n",
              "      <td>0</td>\n",
              "      <td>0</td>\n",
              "      <td>0</td>\n",
              "      <td>0</td>\n",
              "      <td>0</td>\n",
              "      <td>0</td>\n",
              "      <td>0</td>\n",
              "      <td>-3.0</td>\n",
              "    </tr>\n",
              "    <tr>\n",
              "      <th>7</th>\n",
              "      <td>1627854</td>\n",
              "      <td>Bryn</td>\n",
              "      <td>Forbes</td>\n",
              "      <td>B. Forbes</td>\n",
              "      <td>bryn-forbes</td>\n",
              "      <td></td>\n",
              "      <td></td>\n",
              "      <td></td>\n",
              "      <td>2:38</td>\n",
              "      <td>0</td>\n",
              "      <td>0</td>\n",
              "      <td>0.00</td>\n",
              "      <td>0</td>\n",
              "      <td>0</td>\n",
              "      <td>0.0</td>\n",
              "      <td>0</td>\n",
              "      <td>0</td>\n",
              "      <td>0.0</td>\n",
              "      <td>0</td>\n",
              "      <td>0</td>\n",
              "      <td>0</td>\n",
              "      <td>0</td>\n",
              "      <td>0</td>\n",
              "      <td>0</td>\n",
              "      <td>0</td>\n",
              "      <td>0</td>\n",
              "      <td>0</td>\n",
              "      <td>-4.0</td>\n",
              "    </tr>\n",
              "  </tbody>\n",
              "</table>\n",
              "</div>"
            ],
            "text/plain": [
              "   personId firstName  ... statistics.points statistics.plusMinusPoints\n",
              "0    200782      P.J.  ...                 3                       -3.0\n",
              "1    203507   Giannis  ...                10                       -6.0\n",
              "2    201572     Brook  ...                 3                       -4.0\n",
              "3    203114     Khris  ...                 5                       -7.0\n",
              "4    201950      Jrue  ...                 4                       -3.0\n",
              "5    203648  Thanasis  ...                 0                        0.0\n",
              "6   1626192       Pat  ...                 0                       -3.0\n",
              "7   1627854      Bryn  ...                 0                       -4.0\n",
              "\n",
              "[8 rows x 28 columns]"
            ]
          },
          "metadata": {
            "tags": []
          },
          "execution_count": 35
        }
      ]
    }
  ]
}