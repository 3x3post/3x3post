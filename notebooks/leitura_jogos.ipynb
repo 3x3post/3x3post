{
  "nbformat": 4,
  "nbformat_minor": 2,
  "metadata": {
    "colab": {
      "name": "leitura_jogos.ipynb",
      "provenance": [],
      "collapsed_sections": [],
      "include_colab_link": true
    },
    "kernelspec": {
      "display_name": "Python 3",
      "language": "python",
      "name": "python3"
    },
    "language_info": {
      "codemirror_mode": {
        "name": "ipython",
        "version": 3
      },
      "file_extension": ".py",
      "mimetype": "text/x-python",
      "name": "python",
      "nbconvert_exporter": "python",
      "pygments_lexer": "ipython3",
      "version": "3.9.0"
    }
  },
  "cells": [
    {
      "cell_type": "markdown",
      "source": [
        "<a href=\"https://colab.research.google.com/github/nbacomdados/nbacomdados/blob/main/notebooks/leitura_jogos.ipynb\" target=\"_parent\"><img src=\"https://colab.research.google.com/assets/colab-badge.svg\" alt=\"Open In Colab\"/></a>"
      ],
      "metadata": {
        "id": "view-in-github",
        "colab_type": "text"
      }
    },
    {
      "cell_type": "code",
      "execution_count": null,
      "source": [
        "import pandas as pd\n",
        "import requests\n",
        "import json"
      ],
      "outputs": [],
      "metadata": {
        "id": "HfCakR0awMw5"
      }
    },
    {
      "cell_type": "code",
      "execution_count": 51,
      "source": [
        "def retorna_header():\r\n",
        "  headers: dict = {'Accept': '*/*',\r\n",
        "                  'Accept-Encoding': 'gzip, deflate, br',\r\n",
        "                  'Accept-Language': 'pt-BR,pt;q=0.9,en-US;q=0.8,en;q=0.7',\r\n",
        "                  'Connection': 'keep-alive',\r\n",
        "                  'Host': 'stats.nba.com',\r\n",
        "                  'Origin': 'https://www.nba.com',\r\n",
        "                  'Referer': 'https://www.nba.com/',\r\n",
        "                  'sec-ch-ua': '\" Not;A Brand\";v=\"99\", \"Google Chrome\";v=\"91\", \"Chromium\";v=\"91\"',\r\n",
        "                  'sec-ch-ua-mobile': '?0',\r\n",
        "                  'Sec-Fetch-Dest': 'empty',\r\n",
        "                  'Sec-Fetch-Mode': 'cors',\r\n",
        "                  'Sec-Fetch-Site': 'same-site',\r\n",
        "                  'User-Agent': 'Mozilla/5.0 (Windows NT 10.0; Win64; x64) AppleWebKit/537.36 (KHTML, like Gecko) Chrome/91.0.4472.124 Safari/537.36'}\r\n",
        "\r\n",
        "  return headers                "
      ],
      "outputs": [],
      "metadata": {
        "id": "W5LHDEhFs3IC"
      }
    },
    {
      "cell_type": "code",
      "execution_count": 54,
      "source": [
        "def jogo_por_Q(GameID, startPeriod, endPeriod):\r\n",
        "  \r\n",
        "  num_Q = f'Q{startPeriod}' if startPeriod == endPeriod else f'T{startPeriod}-{endPeriod}'\r\n",
        "\r\n",
        "  rangeType = '1'\r\n",
        "  startRange = '0'\r\n",
        "  endRange = '31800'\r\n",
        "\r\n",
        "  headers = retorna_header()  \r\n",
        "  url_base = f'https://stats.nba.com/stats/boxscoretraditionalv3?GameID={GameID}&LeagueID=00&'\r\n",
        "  url_stats = f'{url_base}endPeriod={endPeriod}&endRange={endRange}&rangeType={rangeType}&startPeriod={startPeriod}&startRange={startRange}'\r\n",
        "\r\n",
        "  with requests.Session() as sessao:\r\n",
        "          resposta: requests.models.Response = sessao.get(url_stats, headers=headers)\r\n",
        "\r\n",
        "  y = json.loads(resposta.content)\r\n",
        "\r\n",
        "  name_homeTeam = y['boxScoreTraditional']['homeTeam']['teamName']\r\n",
        "  name_awayTeam = y['boxScoreTraditional']['awayTeam']['teamName']\r\n",
        "  gameId = y['boxScoreTraditional']['gameId']\r\n",
        "\r\n",
        "  pd.json_normalize(y['boxScoreTraditional']['homeTeam']['players']).to_csv(f'{gameId}_{name_homeTeam}_{num_Q}.csv')\r\n",
        "  pd.json_normalize(y['boxScoreTraditional']['awayTeam']['players']).to_csv(f'{gameId}_{name_awayTeam}_{num_Q}.csv')\r\n",
        "\r\n",
        "  df_awayTeam_statistics = pd.json_normalize(y['boxScoreTraditional']['awayTeam']['statistics'])\r\n",
        "  df_homeTeam_statistics = pd.json_normalize(y['boxScoreTraditional']['homeTeam']['statistics'])\r\n",
        "  df_game_statistics = df_homeTeam_statistics.append(df_awayTeam_statistics)\r\n",
        "  df_game_statistics.index = [name_homeTeam, name_awayTeam]\r\n",
        "  df_game_statistics.to_csv(f'{gameId}_game_statistics_{num_Q}.csv')"
      ],
      "outputs": [],
      "metadata": {
        "id": "sriyOC_opyhb"
      }
    },
    {
      "cell_type": "code",
      "execution_count": 60,
      "source": [
        "# GameID = '0042000217' # Jogo 7 Nets X Bucks\r\n",
        "# GameID = '0042000402' # Jogo 2 Suns x Bucks\r\n",
        "\r\n",
        "#@title Texto de título padrão\r\n",
        "\r\n",
        "GameID = \"0042000217\" #@param {type:\"string\"}\r\n",
        "startPeriod = 1 #@param {type:\"slider\", min:1, max:10, step:1}\r\n",
        "endPeriod = 1 #@param {type:\"slider\", min:1, max:10, step:1}\r\n",
        "\r\n",
        "jogo_por_Q(GameID, startPeriod, endPeriod)"
      ],
      "outputs": [],
      "metadata": {
        "cellView": "form",
        "id": "nXCsNJyJu1f-"
      }
    }
  ]
}