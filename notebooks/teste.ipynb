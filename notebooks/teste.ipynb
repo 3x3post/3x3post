{
 "cells": [
  {
   "cell_type": "code",
   "execution_count": 1,
   "metadata": {},
   "outputs": [],
   "source": [
    "import re\r\n",
    "import requests\r\n",
    "from bs4 import BeautifulSoup\r\n",
    "import pandas as pd"
   ]
  },
  {
   "cell_type": "code",
   "execution_count": 2,
   "metadata": {},
   "outputs": [
    {
     "name": "stdout",
     "output_type": "stream",
     "text": [
      "sayings.set('BOSTON CELTICS',1610612738);\n",
      "sayings.set('BROOKLYN NETS',1610612751);\n",
      "sayings.set('NEW YORK KNICKS',1610612752);\n",
      "sayings.set('PHILADELPHIA 76ERS',1610612755);\n",
      "sayings.set('TORONTO RAPTORS',1610612761);\n",
      "sayings.set('CHICAGO BULLS',1610612741);\n",
      "sayings.set('CLEVELAND CAVALIERS',1610612739);\n",
      "sayings.set('DETROIT PISTONS',1610612765);\n",
      "sayings.set('INDIANA PACERS',1610612754);\n",
      "sayings.set('MILWAUKEE BUCKS',1610612749);\n",
      "sayings.set('ATLANTA HAWKS',1610612737);\n",
      "sayings.set('CHARLOTTE HORNETS',1610612766);\n",
      "sayings.set('MIAMI HEAT',1610612748);\n",
      "sayings.set('ORLANDO MAGIC',1610612753);\n",
      "sayings.set('WASHINGTON WIZARDS',1610612764);\n",
      "sayings.set('DENVER NUGGETS',1610612743);\n",
      "sayings.set('MINNESOTA TIMBERWOLVES',1610612750);\n",
      "sayings.set('OKLAHOMA CITY THUNDER',1610612760);\n",
      "sayings.set('PORTLAND TRAIL BLAZERS',1610612757);\n",
      "sayings.set('UTAH JAZZ',1610612762);\n",
      "sayings.set('GOLDEN STATE WARRIORS',1610612744);\n",
      "sayings.set('LA CLIPPERS',1610612746);\n",
      "sayings.set('LOS ANGELES LAKERS',1610612747);\n",
      "sayings.set('PHOENIX SUNS',1610612756);\n",
      "sayings.set('SACRAMENTO KINGS',1610612758);\n",
      "sayings.set('DALLAS MAVERICKS',1610612742);\n",
      "sayings.set('HOUSTON ROCKETS',1610612745);\n",
      "sayings.set('MEMPHIS GRIZZLIES',1610612763);\n",
      "sayings.set('NEW ORLEANS PELICANS',1610612740);\n",
      "sayings.set('SAN ANTONIO SPURS',1610612759);\n",
      "sayings.set('BOSTON CELTICS',1610612738);\n",
      "sayings.set('BROOKLYN NETS',1610612751);\n",
      "sayings.set('NEW YORK KNICKS',1610612752);\n",
      "sayings.set('PHILADELPHIA 76ERS',1610612755);\n",
      "sayings.set('TORONTO RAPTORS',1610612761);\n",
      "sayings.set('CHICAGO BULLS',1610612741);\n",
      "sayings.set('CLEVELAND CAVALIERS',1610612739);\n",
      "sayings.set('DETROIT PISTONS',1610612765);\n",
      "sayings.set('INDIANA PACERS',1610612754);\n",
      "sayings.set('MILWAUKEE BUCKS',1610612749);\n",
      "sayings.set('ATLANTA HAWKS',1610612737);\n",
      "sayings.set('CHARLOTTE HORNETS',1610612766);\n",
      "sayings.set('MIAMI HEAT',1610612748);\n",
      "sayings.set('ORLANDO MAGIC',1610612753);\n",
      "sayings.set('WASHINGTON WIZARDS',1610612764);\n",
      "sayings.set('DENVER NUGGETS',1610612743);\n",
      "sayings.set('MINNESOTA TIMBERWOLVES',1610612750);\n",
      "sayings.set('OKLAHOMA CITY THUNDER',1610612760);\n",
      "sayings.set('PORTLAND TRAIL BLAZERS',1610612757);\n",
      "sayings.set('UTAH JAZZ',1610612762);\n",
      "sayings.set('GOLDEN STATE WARRIORS',1610612744);\n",
      "sayings.set('LA CLIPPERS',1610612746);\n",
      "sayings.set('LOS ANGELES LAKERS',1610612747);\n",
      "sayings.set('PHOENIX SUNS',1610612756);\n",
      "sayings.set('SACRAMENTO KINGS',1610612758);\n",
      "sayings.set('DALLAS MAVERICKS',1610612742);\n",
      "sayings.set('HOUSTON ROCKETS',1610612745);\n",
      "sayings.set('MEMPHIS GRIZZLIES',1610612763);\n",
      "sayings.set('NEW ORLEANS PELICANS',1610612740);\n",
      "sayings.set('SAN ANTONIO SPURS',1610612759);\n"
     ]
    }
   ],
   "source": [
    "sessao = requests.Session()\r\n",
    "\r\n",
    "# headers: dict = {'cookie': f\"__cfduid=; caelum.login.token={COOKIE}; alura.userId=407934;\"}   \r\n",
    "url: str = f\"https://www.nba.com/teams\"\r\n",
    "\r\n",
    "resposta: requests.models.Response = sessao.get(url)\r\n",
    "\r\n",
    "soup = BeautifulSoup(resposta.content, 'html.parser')\r\n",
    "soup.find_all(class_='TeamLogo_logo__1CmT9')\r\n",
    "for item in soup.find_all(class_='TeamLogo_logo__1CmT9'):\r\n",
    "    print(f\"sayings.set('{item.attrs['alt'][:-5].upper()}',{item.attrs['src'][30:31+9]});\")"
   ]
  },
  {
   "cell_type": "code",
   "execution_count": 3,
   "metadata": {},
   "outputs": [
    {
     "data": {
      "text/plain": [
       "30"
      ]
     },
     "execution_count": 3,
     "metadata": {},
     "output_type": "execute_result"
    }
   ],
   "source": [
    "len('https://cdn.nba.com/logos/nba/')"
   ]
  },
  {
   "cell_type": "code",
   "execution_count": 4,
   "metadata": {},
   "outputs": [
    {
     "data": {
      "text/plain": [
       "9"
      ]
     },
     "execution_count": 4,
     "metadata": {},
     "output_type": "execute_result"
    }
   ],
   "source": [
    "len('610612759')"
   ]
  },
  {
   "cell_type": "code",
   "execution_count": 5,
   "metadata": {},
   "outputs": [
    {
     "data": {
      "text/plain": [
       "5"
      ]
     },
     "execution_count": 5,
     "metadata": {},
     "output_type": "execute_result"
    }
   ],
   "source": [
    "len('Logo ')"
   ]
  }
 ],
 "metadata": {
  "interpreter": {
   "hash": "28507ff82f7a6249121355dd710cf5a6f691ac69384b468748b19f7d810cf4b6"
  },
  "kernelspec": {
   "display_name": "Python 3.9.0 64-bit",
   "name": "python3"
  },
  "language_info": {
   "codemirror_mode": {
    "name": "ipython",
    "version": 3
   },
   "file_extension": ".py",
   "mimetype": "text/x-python",
   "name": "python",
   "nbconvert_exporter": "python",
   "pygments_lexer": "ipython3",
   "version": "3.9.0"
  },
  "orig_nbformat": 4
 },
 "nbformat": 4,
 "nbformat_minor": 2
}