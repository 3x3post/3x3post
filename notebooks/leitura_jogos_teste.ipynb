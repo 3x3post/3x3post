{
  "nbformat": 4,
  "nbformat_minor": 2,
  "metadata": {
    "colab": {
      "name": "leitura_jogos.ipynb",
      "provenance": [],
      "collapsed_sections": [],
      "include_colab_link": true
    },
    "kernelspec": {
      "name": "python3",
      "display_name": "Python 3.9.0 64-bit"
    },
    "language_info": {
      "codemirror_mode": {
        "name": "ipython",
        "version": 3
      },
      "file_extension": ".py",
      "mimetype": "text/x-python",
      "name": "python",
      "nbconvert_exporter": "python",
      "pygments_lexer": "ipython3",
      "version": "3.9.0"
    },
    "interpreter": {
      "hash": "28507ff82f7a6249121355dd710cf5a6f691ac69384b468748b19f7d810cf4b6"
    }
  },
  "cells": [
    {
      "cell_type": "markdown",
      "source": [
        "<a href=\"https://colab.research.google.com/github/nbacomdados/nbacomdados/blob/main/notebooks/leitura_jogos.ipynb\" target=\"_parent\"><img src=\"https://colab.research.google.com/assets/colab-badge.svg\" alt=\"Open In Colab\"/></a>"
      ],
      "metadata": {
        "id": "view-in-github",
        "colab_type": "text"
      }
    },
    {
      "cell_type": "code",
      "execution_count": 1,
      "source": [
        "import pandas as pd\r\n",
        "import requests\r\n",
        "import json"
      ],
      "outputs": [],
      "metadata": {
        "id": "HfCakR0awMw5"
      }
    },
    {
      "cell_type": "code",
      "execution_count": 2,
      "source": [
        "def retorna_header():\r\n",
        "  headers: dict = {'Accept': '*/*',\r\n",
        "                  'Accept-Encoding': 'gzip, deflate, br',\r\n",
        "                  'Accept-Language': 'pt-BR,pt;q=0.9,en-US;q=0.8,en;q=0.7',\r\n",
        "                  'Connection': 'keep-alive',\r\n",
        "                  'Host': 'stats.nba.com',\r\n",
        "                  'Origin': 'https://www.nba.com',\r\n",
        "                  'Referer': 'https://www.nba.com/',\r\n",
        "                  'sec-ch-ua': '\" Not;A Brand\";v=\"99\", \"Google Chrome\";v=\"91\", \"Chromium\";v=\"91\"',\r\n",
        "                  'sec-ch-ua-mobile': '?0',\r\n",
        "                  'Sec-Fetch-Dest': 'empty',\r\n",
        "                  'Sec-Fetch-Mode': 'cors',\r\n",
        "                  'Sec-Fetch-Site': 'same-site',\r\n",
        "                  'User-Agent': 'Mozilla/5.0 (Windows NT 10.0; Win64; x64) AppleWebKit/537.36 (KHTML, like Gecko) Chrome/91.0.4472.124 Safari/537.36'}\r\n",
        "\r\n",
        "  return headers                "
      ],
      "outputs": [],
      "metadata": {
        "id": "W5LHDEhFs3IC"
      }
    },
    {
      "cell_type": "code",
      "execution_count": 74,
      "source": [
        "GameID = \"0042000217\" #@param {type:\"string\"}\r\n",
        "\r\n",
        "dict_df = {}\r\n",
        "status_code = 200\r\n",
        "df_players_all = pd.DataFrame()\r\n",
        "df_game_statistics_all = pd.DataFrame()\r\n",
        "Q = 1\r\n",
        "\r\n",
        "while status_code != None:\r\n",
        "\r\n",
        "\tstartPeriod = Q\r\n",
        "\tendPeriod = Q\r\n",
        "\r\n",
        "\tnum_Q = f'Q{startPeriod}' if startPeriod == endPeriod else f'T{startPeriod}-{endPeriod}'\r\n",
        "\r\n",
        "\trangeType = '1'\r\n",
        "\tstartRange = '0'\r\n",
        "\tendRange = '31800'\r\n",
        "\r\n",
        "\theaders = retorna_header()  \r\n",
        "\turl_base = f'https://stats.nba.com/stats/boxscoretraditionalv3?GameID={GameID}&LeagueID=00&'\r\n",
        "\turl_stats = f'{url_base}endPeriod={endPeriod}&endRange={endRange}&rangeType={rangeType}&startPeriod={startPeriod}&startRange={startRange}'\r\n",
        "\r\n",
        "\twith requests.Session() as sessao:\r\n",
        "\t\t\tresposta: requests.models.Response = sessao.get(url_stats, headers=headers)\r\n",
        "\r\n",
        "\ty = resposta.json()\r\n",
        "\t\r\n",
        "\tstatus_code = y['boxScoreTraditional']['homeTeam']['teamName']\r\n",
        "\r\n",
        "\tif status_code != None:\r\n",
        "\r\n",
        "\t\tname_homeTeam = y['boxScoreTraditional']['homeTeam']['teamName']\r\n",
        "\t\tname_awayTeam = y['boxScoreTraditional']['awayTeam']['teamName']\r\n",
        "\t\tgameId = y['boxScoreTraditional']['gameId']\r\n",
        "\r\n",
        "\t\tdf_players_homeTeam = pd.json_normalize(y['boxScoreTraditional']['homeTeam']['players'])\r\n",
        "\t\tdf_players_homeTeam['teamName'] = name_homeTeam\r\n",
        "\t\tdf_players_awayTeam = pd.json_normalize(y['boxScoreTraditional']['awayTeam']['players'])\r\n",
        "\t\tdf_players_awayTeam['teamName'] = name_awayTeam\r\n",
        "\r\n",
        "\t\tdf_players = df_players_awayTeam.append(df_players_homeTeam)\r\n",
        "\t\tdf_players['Q'] = Q\r\n",
        "\t\tdf_players_all = df_players_all.append(df_players)\r\n",
        "\r\n",
        "\t\tdf_awayTeam_statistics = pd.json_normalize(y['boxScoreTraditional']['awayTeam']['statistics'])\r\n",
        "\t\tdf_homeTeam_statistics = pd.json_normalize(y['boxScoreTraditional']['homeTeam']['statistics'])\r\n",
        "\t\tdf_game_statistics = df_homeTeam_statistics.append(df_awayTeam_statistics)\r\n",
        "\t\tdf_game_statistics.index = [name_homeTeam, name_awayTeam]\r\n",
        "\t\t\r\n",
        "\t\tdf_game_statistics['Q'] = Q\r\n",
        "\t\t\r\n",
        "\t\tdf_game_statistics_all = df_game_statistics_all.append(df_game_statistics)\r\n",
        "\r\n",
        "\tQ += 1"
      ],
      "outputs": [],
      "metadata": {
        "id": "sriyOC_opyhb"
      }
    }
  ]
}